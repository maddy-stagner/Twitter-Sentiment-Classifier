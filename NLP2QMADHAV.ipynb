{
  "metadata": {
    "kernelspec": {
      "language": "python",
      "display_name": "Python 3",
      "name": "python3"
    },
    "language_info": {
      "name": "python",
      "version": "3.10.13",
      "mimetype": "text/x-python",
      "codemirror_mode": {
        "name": "ipython",
        "version": 3
      },
      "pygments_lexer": "ipython3",
      "nbconvert_exporter": "python",
      "file_extension": ".py"
    },
    "kaggle": {
      "accelerator": "none",
      "dataSources": [
        {
          "sourceId": 7891430,
          "sourceType": "datasetVersion",
          "datasetId": 4633164
        },
        {
          "sourceId": 7891645,
          "sourceType": "datasetVersion",
          "datasetId": 4633307
        }
      ],
      "dockerImageVersionId": 30673,
      "isInternetEnabled": true,
      "language": "python",
      "sourceType": "notebook",
      "isGpuEnabled": false
    },
    "colab": {
      "provenance": []
    }
  },
  "nbformat_minor": 0,
  "nbformat": 4,
  "cells": [
    {
      "cell_type": "code",
      "source": [
        "\n",
        "\n",
        "import numpy as np\n",
        "import pandas as pd\n",
        "\n",
        "\n",
        "import os\n",
        "for dirname, _, filenames in os.walk('/kaggle/input'):\n",
        "    for filename in filenames:\n",
        "        print(os.path.join(dirname, filename))\n",
        "\n"
      ],
      "metadata": {
        "_uuid": "8f2839f25d086af736a60e9eeb907d3b93b6e0e5",
        "_cell_guid": "b1076dfc-b9ad-4769-8c92-a6c4dae69d19",
        "execution": {
          "iopub.status.busy": "2024-03-20T04:27:45.418955Z",
          "iopub.execute_input": "2024-03-20T04:27:45.419375Z",
          "iopub.status.idle": "2024-03-20T04:27:45.433063Z",
          "shell.execute_reply.started": "2024-03-20T04:27:45.419345Z",
          "shell.execute_reply": "2024-03-20T04:27:45.431851Z"
        },
        "trusted": true,
        "id": "4zG1L7K6NziW",
        "outputId": "88e390fc-654c-48b7-bc05-c6690468c640"
      },
      "execution_count": null,
      "outputs": [
        {
          "name": "stdout",
          "text": "/kaggle/input/madhavgloves/glove.twitter.27B.25d.pkl\n/kaggle/input/madhavtweeterdata/training.1600000.processed.noemoticon.csv\n",
          "output_type": "stream"
        }
      ]
    },
    {
      "cell_type": "code",
      "source": [
        "import pandas as pd\n",
        "\n",
        "\n",
        "file_path = '/kaggle/input/madhavtweeterdata/training.1600000.processed.noemoticon.csv'\n",
        "\n",
        "\n",
        "columns = ['sentiment', 'id', 'date', 'query', 'user', 'text']\n",
        "data = pd.read_csv(file_path, encoding='ISO-8859-1', names=columns)\n",
        "\n",
        "\n",
        "data = data[['sentiment', 'text']]\n",
        "\n",
        "\n",
        "data['sentiment'] = data['sentiment'].map({0: 'negative', 4: 'positive'})\n"
      ],
      "metadata": {
        "execution": {
          "iopub.status.busy": "2024-03-22T18:01:48.909532Z",
          "iopub.execute_input": "2024-03-22T18:01:48.909956Z",
          "iopub.status.idle": "2024-03-22T18:01:54.420945Z",
          "shell.execute_reply.started": "2024-03-22T18:01:48.909926Z",
          "shell.execute_reply": "2024-03-22T18:01:54.419785Z"
        },
        "trusted": true,
        "id": "m5fxuJHdNziX"
      },
      "execution_count": null,
      "outputs": []
    },
    {
      "cell_type": "code",
      "source": [
        "import pickle\n",
        "\n",
        "\n",
        "glove_path = '/kaggle/input/madhavgloves/glove.twitter.27B.25d.pkl'\n",
        "\n",
        "with open(glove_path, 'rb') as f:\n",
        "    glove_embeddings = pickle.load(f)\n"
      ],
      "metadata": {
        "execution": {
          "iopub.status.busy": "2024-03-22T18:02:10.725542Z",
          "iopub.execute_input": "2024-03-22T18:02:10.726859Z",
          "iopub.status.idle": "2024-03-22T18:02:17.471191Z",
          "shell.execute_reply.started": "2024-03-22T18:02:10.726816Z",
          "shell.execute_reply": "2024-03-22T18:02:17.469852Z"
        },
        "trusted": true,
        "id": "rGVVszeHNziX"
      },
      "execution_count": null,
      "outputs": []
    },
    {
      "cell_type": "code",
      "source": [
        "from sklearn.model_selection import train_test_split\n",
        "\n",
        "train_val, test = train_test_split(data, test_size=0.2, random_state=42)\n",
        "train, val = train_test_split(train_val, test_size=0.25, random_state=42)\n"
      ],
      "metadata": {
        "execution": {
          "iopub.status.busy": "2024-03-22T18:02:33.132463Z",
          "iopub.execute_input": "2024-03-22T18:02:33.132880Z",
          "iopub.status.idle": "2024-03-22T18:02:35.801042Z",
          "shell.execute_reply.started": "2024-03-22T18:02:33.132846Z",
          "shell.execute_reply": "2024-03-22T18:02:35.799396Z"
        },
        "trusted": true,
        "id": "RELg74FqNziY"
      },
      "execution_count": null,
      "outputs": []
    },
    {
      "cell_type": "code",
      "source": [
        "import numpy as np\n",
        "\n",
        "def preprocess_text(text):\n",
        "    text = text.lower()\n",
        "    return text\n",
        "\n",
        "def text_to_embedding(text, embeddings):\n",
        "    tokens = text.split()\n",
        "    embeddings_list = [embeddings.get(token, np.zeros(25)) for token in tokens]\n",
        "\n",
        "    embedding = np.mean(embeddings_list, axis=0) if embeddings_list else np.zeros(25)\n",
        "    return embedding\n",
        "\n",
        "\n",
        "train['text'] = train['text'].apply(preprocess_text)\n",
        "val['text'] = val['text'].apply(preprocess_text)\n",
        "test['text'] = test['text'].apply(preprocess_text)\n",
        "\n",
        "\n",
        "X_train = np.array([text_to_embedding(text, glove_embeddings) for text in train['text']])\n",
        "X_val = np.array([text_to_embedding(text, glove_embeddings) for text in val['text']])\n",
        "X_test = np.array([text_to_embedding(text, glove_embeddings) for text in test['text']])\n"
      ],
      "metadata": {
        "execution": {
          "iopub.status.busy": "2024-03-22T18:03:12.910267Z",
          "iopub.execute_input": "2024-03-22T18:03:12.910702Z",
          "iopub.status.idle": "2024-03-22T18:04:32.640160Z",
          "shell.execute_reply.started": "2024-03-22T18:03:12.910671Z",
          "shell.execute_reply": "2024-03-22T18:04:32.638812Z"
        },
        "trusted": true,
        "id": "ZY9H95QRNziY"
      },
      "execution_count": null,
      "outputs": []
    },
    {
      "cell_type": "code",
      "source": [
        "from sklearn.linear_model import LogisticRegression\n",
        "from sklearn.metrics import accuracy_score\n",
        "from sklearn.preprocessing import LabelEncoder\n",
        "\n",
        "\n",
        "label_encoder = LabelEncoder()\n",
        "y_train = label_encoder.fit_transform(train['sentiment'].values)\n",
        "y_val = label_encoder.transform(val['sentiment'].values)\n",
        "y_test = label_encoder.transform(test['sentiment'].values)\n",
        "\n",
        "# Train the model\n",
        "model = LogisticRegression(max_iter=1000)\n",
        "model.fit(X_train, y_train)\n",
        "\n",
        "# Evaluate on the test set\n",
        "predictions = model.predict(X_test)\n",
        "accuracy = accuracy_score(y_test, predictions)\n",
        "\n",
        "print(f\"Test accuracy: {accuracy}\")\n"
      ],
      "metadata": {
        "execution": {
          "iopub.status.busy": "2024-03-22T18:04:42.140158Z",
          "iopub.execute_input": "2024-03-22T18:04:42.140989Z",
          "iopub.status.idle": "2024-03-22T18:04:53.334956Z",
          "shell.execute_reply.started": "2024-03-22T18:04:42.140953Z",
          "shell.execute_reply": "2024-03-22T18:04:53.333388Z"
        },
        "trusted": true,
        "id": "skVGydF5NziY",
        "outputId": "c3496281-0c3f-4cab-f519-26f8502db7c7"
      },
      "execution_count": null,
      "outputs": [
        {
          "name": "stdout",
          "text": "Test accuracy: 0.67374375\n",
          "output_type": "stream"
        }
      ]
    },
    {
      "cell_type": "code",
      "source": [],
      "metadata": {
        "id": "gFwDQ4wDNziY"
      },
      "execution_count": null,
      "outputs": []
    }
  ]
}